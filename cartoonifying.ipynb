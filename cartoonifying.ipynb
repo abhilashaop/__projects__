{
 "cells": [
  {
   "cell_type": "code",
   "execution_count": 31,
   "id": "broke-batch",
   "metadata": {},
   "outputs": [],
   "source": [
    "import cv2 #for image processing\n",
    "import easygui #to open the filebox\n",
    "import numpy as np #to store image\n",
    "import imageio #to read image stored at particular path\n",
    "import sys\n",
    "import matplotlib.pyplot as plt\n",
    "import os\n",
    "import tkinter as tk\n",
    "from tkinter import filedialog\n",
    "from tkinter import *\n",
    "import PIL\n",
    "from PIL import ImageTk, Image"
   ]
  },
  {
   "cell_type": "code",
   "execution_count": 32,
   "id": "ranking-spring",
   "metadata": {},
   "outputs": [],
   "source": [
    "def upload():\n",
    "    IP = easygui.fileopenbox()\n",
    "    cartoonify(IP)"
   ]
  },
  {
   "cell_type": "code",
   "execution_count": 33,
   "id": "biblical-sweet",
   "metadata": {},
   "outputs": [],
   "source": [
    "top=tk.Tk()\n",
    "top.geometry('400x400')\n",
    "top.title('Cartoonify Your Image !')\n",
    "top.configure(background='white')\n",
    "label=Label(top,background='#CDCDCD', font=('calibri',20,'bold'))"
   ]
  },
  {
   "cell_type": "markdown",
   "id": "damaged-duplicate",
   "metadata": {},
   "source": [
    "def cartoonify():\n",
    "    I = cv2.imread(IP)\n",
    "    I = cv2.cvtColor(I,cv2.COLOR_BGR2RGB)\n",
    "    if I is None:\n",
    "        print(\"No Image Found\")\n",
    "        sys.exit()\n",
    "    resized1_I =  cv2.resize(I,(900,900))\n",
    "    gray_I = cv2.cvtColor(I,cv2.COLOR_BGR2GRAY)\n",
    "    resized2_I = cv2.resize(gray_I,(900,900))\n",
    "    smooth_I = cv2.medianBlur(gray_I,7)\n",
    "    resized3_I = cv2.resize(smooth_I,(900,900))\n",
    "    edge_I = cv2.adaptiveThreshold(smooth_I,cv2.ADAPTIVE_THRESH_GAUSSIAN_C,cv2.THRESH_BINARY_INV,9,9)\n",
    "    resized4_I =  cv2.resize(edge_I,(900,900))\n",
    "    # Mask image\n",
    "    bialteral_I = cv2.bilateralFilter(I,10,350,350)\n",
    "    resized5_I = cv2.resize(bialteral_I,(900,900))\n",
    "    cartoon_I = cv2.bitwise_and(I,I,mask  =edge_I)\n",
    "    resized6_I = cv2.resize(cartoon_I,(900,900))\n",
    "    images = [resized1_I,resized2_I,resized3_I,resized4_I,resized5_I,resized6_I]\n",
    "    fig,axes = plt.subplots(3,2, figsize = (8,8), subplot_kw={'xticks':[],'yticks':[]},gridspec_kw=dict(hspace=0,wspace = 0.1))\n",
    "    for i, ax in enumerate(axes.flat):\n",
    "        ax.imshow(images[i],cmap='gray')\n",
    "    save1=Button(top,text=\"Save Cartoon Image\",command=lambda:save(resized6_I,IP),padx=30,pady=5)\n",
    "    save1.configure(background='#364156',afreground='white',font=('calibri',10,'bold'))\n",
    "    save1.pack(side=TOP,pady=50)\n",
    "    plt.show()\n",
    "    \n",
    "    "
   ]
  },
  {
   "cell_type": "code",
   "execution_count": 34,
   "id": "successful-elder",
   "metadata": {},
   "outputs": [],
   "source": [
    "\n",
    "def cartoonify(IP):\n",
    "    \n",
    "    I = cv2.imread(IP)\n",
    "    I = cv2.cvtColor(I, cv2.COLOR_BGR2RGB)\n",
    "    if I is None:\n",
    "        print(\"Can not find any image. Choose appropriate file\")\n",
    "        sys.exit()\n",
    "\n",
    "    resized1 = cv2.resize(I, (960, 540))\n",
    "    \n",
    "\n",
    "\n",
    "    #converting an image to grayscale\n",
    "    gray_I = cv2.cvtColor(I, cv2.COLOR_BGR2GRAY)\n",
    "    resized2 = cv2.resize(gray_I, (960, 540))\n",
    "\n",
    "\n",
    "\n",
    "    #applying median blur to smoothen an image\n",
    "    smooth_I = cv2.medianBlur(gray_I, 5)\n",
    "    resized3 = cv2.resize(smooth_I, (960, 540))\n",
    "    #plt.imshow(ReSized3, cmap='gray')\n",
    "\n",
    "    #retrieving the edges for cartoon effect\n",
    "    #by using thresholding technique\n",
    "    Edge_I = cv2.adaptiveThreshold(smooth_I, 255, \n",
    "        cv2.ADAPTIVE_THRESH_MEAN_C, \n",
    "        cv2.THRESH_BINARY, 9, 9)\n",
    "\n",
    "    resized4 = cv2.resize(Edge_I, (960, 540))\n",
    "    \n",
    "\n",
    "    #applying bilateral filter to remove noise \n",
    "    #and keep edge sharp as required\n",
    "    colorImage = cv2.bilateralFilter(I, 9, 300, 300)\n",
    "    resized5 = cv2.resize(colorImage, (960, 540))\n",
    "    \n",
    "\n",
    "\n",
    "    #masking edged image with our \"BEAUTIFY\" image\n",
    "    cartoon_I = cv2.bitwise_and(colorImage, colorImage, mask=Edge_I)\n",
    "\n",
    "    resized6 = cv2.resize(cartoon_I, (960, 540))\n",
    "    \n",
    "\n",
    "    # Plotting the whole transition\n",
    "    images=[resized1,resized2,resized3,resized4,resized5,resized6]\n",
    "\n",
    "    fig, axes = plt.subplots(3,2, figsize=(8,8), subplot_kw={'xticks':[], 'yticks':[]}, gridspec_kw=dict(hspace=0.1, wspace=0.1))\n",
    "    for i, ax in enumerate(axes.flat):\n",
    "        ax.imshow(images[i], cmap='gray')\n",
    "\n",
    "    save1=Button(top,text=\"Save cartoon image\",command=lambda: save(resized6, IP),padx=30,pady=5)\n",
    "    save1.configure(background='#364156', foreground='white',font=('calibri',10,'bold'))\n",
    "    save1.pack(side=TOP,pady=50)\n",
    "    \n",
    "    plt.show()\n",
    "    "
   ]
  },
  {
   "cell_type": "code",
   "execution_count": 35,
   "id": "dynamic-attack",
   "metadata": {},
   "outputs": [],
   "source": [
    "def save(resized6,IP):\n",
    "    name = \"cartoon_image\"\n",
    "    path1 = os.path.dirname(IP)\n",
    "    extension = os.path.splitext(IP)[1]\n",
    "    path = os.path.join(path1,name+extension)\n",
    "    cv2.imwrite(path,cv2.cvtColor(resized6,cv2.COLOR_RGB2BGR))\n",
    "    i = \"iamge saved by name \" + name +\"at\" + path\n",
    "    tk.messagebox.showinfo(title=None,message=i)\n"
   ]
  },
  {
   "cell_type": "code",
   "execution_count": 36,
   "id": "resident-lounge",
   "metadata": {},
   "outputs": [],
   "source": [
    "upload = Button(top,text=\"cartoonfiy an image\",command = upload,padx=10,pady=5)\n",
    "upload.configure(background = \"#364156\",foreground='white',font = ('calibri',10,'bold'))\n",
    "upload.pack(side = TOP,pady=50)\n"
   ]
  },
  {
   "cell_type": "code",
   "execution_count": null,
   "id": "cross-reason",
   "metadata": {},
   "outputs": [],
   "source": [
    "top.mainloop()\n"
   ]
  },
  {
   "cell_type": "code",
   "execution_count": null,
   "id": "revolutionary-wichita",
   "metadata": {},
   "outputs": [],
   "source": []
  }
 ],
 "metadata": {
  "kernelspec": {
   "display_name": "Python 3",
   "language": "python",
   "name": "python3"
  },
  "language_info": {
   "codemirror_mode": {
    "name": "ipython",
    "version": 3
   },
   "file_extension": ".py",
   "mimetype": "text/x-python",
   "name": "python",
   "nbconvert_exporter": "python",
   "pygments_lexer": "ipython3",
   "version": "3.8.5"
  }
 },
 "nbformat": 4,
 "nbformat_minor": 5
}

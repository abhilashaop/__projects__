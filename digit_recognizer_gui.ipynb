{
 "cells": [
  {
   "cell_type": "code",
   "execution_count": 28,
   "id": "dried-dining",
   "metadata": {},
   "outputs": [],
   "source": [
    "import numpy as np\n",
    "import cv2\n",
    "from skimage import img_as_ubyte\n",
    "from skimage.color import rgb2gray\n",
    "from keras.models import load_model"
   ]
  },
  {
   "cell_type": "code",
   "execution_count": 29,
   "id": "unlimited-qualification",
   "metadata": {},
   "outputs": [],
   "source": [
    "w = 600\n",
    "h = 400\n",
    "cap = cv2.VideoCapture(0)\n",
    "cap.set(3,w)\n",
    "cap.set(4,h)\n",
    "model = load_model('train_DR.h5')"
   ]
  },
  {
   "cell_type": "code",
   "execution_count": null,
   "id": "available-protein",
   "metadata": {},
   "outputs": [],
   "source": [
    "while True:\n",
    "    success, I = cap.read()\n",
    "    I_gray = rgb2gray(I)\n",
    "    I_gray_u8 = img_as_ubyte(I_gray)\n",
    "    (thresh,I_binary) = cv2.threshold(I_gray_u8,128,255,cv2.THRESH_BINARY | cv2.THRESH_OTSU)\n",
    "    I_resize = cv2.resize(I_binary,(28,28))\n",
    "    I_gray_invert = 255 - I_resize\n",
    "    I_final = I_gray_invert.reshape(1,28,28,1)\n",
    "    ans =  model.predict(I_final)\n",
    "    ans = np.argmax(ans,axis = 1)[0]\n",
    "    print(ans)\n",
    "    cv2.putText(I,'Predicted digit:',+ ans,(50,50), cv2.FONT_HERSHEY_COMPLEX,1,(0,0,255),1)\n",
    "    cv2.imshow(\"Orignal Image\",I)\n",
    "    if cv2.waitKey(1) and 0xFF == ord('q'):\n",
    "       break\n",
    "cap.release()\n",
    "cv2.destroyAllWindows()\n",
    "    "
   ]
  },
  {
   "cell_type": "code",
   "execution_count": null,
   "id": "communist-chuck",
   "metadata": {},
   "outputs": [],
   "source": [
    "#Dataset subplots\n",
    "\n",
    "(x_train, y_train),(x_test, y_test) = mnist.load_data()\n",
    "\n",
    "import matplotlib.pyplot as plt\n",
    "fig, axes = plt.subplots(10, 10, figsize=(8, 8), subplot_kw={'xticks':[], 'yticks':[]}, gridspec_kw=dict(hspace=0.1, wspace=0.1))\n",
    "for i, ax in enumerate(axes.flat):\n",
    "    ax.imshow(x_train[i], cmap='binary', interpolation='nearest')\n",
    "    ax.text(0.05, 0.05, str(y_train[i]),transform=ax.transAxes, color='green')\n",
    "plt.show()"
   ]
  },
  {
   "cell_type": "code",
   "execution_count": null,
   "id": "tender-abraham",
   "metadata": {},
   "outputs": [],
   "source": []
  }
 ],
 "metadata": {
  "kernelspec": {
   "display_name": "Python 3",
   "language": "python",
   "name": "python3"
  },
  "language_info": {
   "codemirror_mode": {
    "name": "ipython",
    "version": 3
   },
   "file_extension": ".py",
   "mimetype": "text/x-python",
   "name": "python",
   "nbconvert_exporter": "python",
   "pygments_lexer": "ipython3",
   "version": "3.8.5"
  }
 },
 "nbformat": 4,
 "nbformat_minor": 5
}
